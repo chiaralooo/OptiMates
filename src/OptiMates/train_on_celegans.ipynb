{
 "cells": [
  {
   "cell_type": "code",
   "execution_count": 27,
   "metadata": {},
   "outputs": [],
   "source": [
    "from re import T\n",
    "#from funlib.learn.torch.models import UNet\n",
    "#import gunpowder as gp\n",
    "import time\n",
    "\n",
    "import os\n",
    "import utils \n",
    "#import torch\n",
    "from tifffile import imread\n",
    "import zarr\n",
    "\n",
    "\n",
    "dataPath = r'/group/dl4miacourse/projects/OptiMates/TRNs_calcium/batch1'\n",
    "imfile = r'GN692_125kPa002_20231017-142851.tif'\n",
    "imfile = os.path.join(dataPath, imfile)\n",
    "zarrStore = imread(imfile, aszarr=True)\n",
    "\n"
   ]
  },
  {
   "cell_type": "code",
   "execution_count": 26,
   "metadata": {},
   "outputs": [],
   "source": [
    "from LineageTree import lineageTree\n",
    "from utils import write_csv_from_lT_to_lineaja\n",
    "\n",
    "# get the GT from xml files and save it as csv\n",
    "path = r'/group/dl4miacourse/projects/OptiMates/TRNs_calcium/batch1/tracks'\n",
    "fname = r'GN692_125kPa002_20231017-142851.xml'\n",
    "\n",
    "newFile = os.path.join(path, fname.split('.xml')[0] + '.csv')\n",
    "file = os.path.join(path, fname)\n",
    "lT = lineageTree(file, file_type='trackmate')\n",
    "\n",
    "write_csv_from_lT_to_lineaja(lT, newFile, start = 0, finish = 959)"
   ]
  },
  {
   "cell_type": "code",
   "execution_count": 23,
   "metadata": {},
   "outputs": [
    {
     "data": {
      "text/plain": [
       "['GN692_125kPa002_20231017-142851', '']"
      ]
     },
     "execution_count": 23,
     "metadata": {},
     "output_type": "execute_result"
    }
   ],
   "source": [
    "# write the data to zarr\n",
    "tifffilename = ''\n",
    "\n",
    "dataPath = r'/group/dl4miacourse/projects/OptiMates/TRNs_calcium/batch1'\n",
    "imfile = r'GN692_125kPa002_20231017-142851.tif'\n",
    "imfile = os.path.join(dataPath, imfile)\n",
    "zarrStore = imread(imfile, aszarr=True)\n",
    "zarrFile = zarr.open(zarrStore, 'r')\n",
    "\n",
    "zarrNew = os.path.join(dataPath, imfile.split('.tif')[0] + '.zarr')\n",
    "zarrNew = zarr.open(zarrNew, 'w')\n",
    "\n",
    "# copy...\n",
    "copy_view(zarr_file, h5_file, 's00')\n",
    "copy_view(zarr_file, h5_file, 's01')\n",
    "\n"
   ]
  }
 ],
 "metadata": {
  "kernelspec": {
   "display_name": "Python 3",
   "language": "python",
   "name": "python3"
  },
  "language_info": {
   "codemirror_mode": {
    "name": "ipython",
    "version": 3
   },
   "file_extension": ".py",
   "mimetype": "text/x-python",
   "name": "python",
   "nbconvert_exporter": "python",
   "pygments_lexer": "ipython3",
   "version": "3.10.14"
  },
  "orig_nbformat": 4
 },
 "nbformat": 4,
 "nbformat_minor": 2
}
