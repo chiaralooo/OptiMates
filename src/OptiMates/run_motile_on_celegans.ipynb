{
 "cells": [
  {
   "cell_type": "code",
   "execution_count": 1,
   "id": "2b6b9f0d",
   "metadata": {
    "execution": {
     "iopub.execute_input": "2024-05-08T12:43:34.619853Z",
     "iopub.status.busy": "2024-05-08T12:43:34.619382Z",
     "iopub.status.idle": "2024-05-08T12:43:34.849167Z",
     "shell.execute_reply": "2024-05-08T12:43:34.848727Z"
    }
   },
   "outputs": [
    {
     "name": "stdout",
     "output_type": "stream",
     "text": [
      "Extracting candidate edges\n",
      "[1, 2, 3, 4, 5, 6, 7, 8, 9, 10, 11, 12, 13, 14, 15, 16, 17, 18, 19, 20, 21, 22, 23, 24, 25, 26, 27, 28, 29, 30, 31, 32, 33, 34, 35, 36, 37, 38, 39, 40, 41, 42, 43, 44, 45, 46, 47, 48, 49, 50, 51, 52, 53, 54, 55, 56, 57, 58, 59, 60, 61, 62, 63, 64, 65, 66, 67, 68, 69, 70, 71, 72, 73, 74, 75, 76, 77, 78, 79, 80, 81, 82, 83, 84, 85, 86, 87, 88, 89, 90, 91, 92, 93, 94, 95, 96, 97, 98, 99]\n"
     ]
    },
    {
     "name": "stderr",
     "output_type": "stream",
     "text": [
      "100%|██████████| 99/99 [00:00<00:00, 33242.82it/s]\n"
     ]
    }
   ],
   "source": [
    "import motile\n",
    "import networkx as nx\n",
    "from LineageTree import lineageTree\n",
    "import utils\n",
    "import os\n",
    "path = r'/localscratch/DL4MIA_2024/project/data/tracks'\n",
    "fname = r'GN692_125kPa002_20231017-142851.xml'\n",
    "image_path = r'/group/dl4miacourse/TRNs_calcium/...'\n",
    "\n",
    "file = os.path.join(path, fname)\n",
    "lt = lineageTree(file, file_type='trackmate')\n",
    "\n",
    "nx_graph = utils.to_motile(lt, crop=100, max_dist=20)\n",
    "\n",
    "graph = motile.TrackGraph(nx_graph)"
   ]
  },
  {
   "cell_type": "code",
   "execution_count": 4,
   "id": "c26c95de",
   "metadata": {
    "execution": {
     "iopub.execute_input": "2024-05-08T12:43:34.992488Z",
     "iopub.status.busy": "2024-05-08T12:43:34.992085Z",
     "iopub.status.idle": "2024-05-08T12:43:34.995467Z",
     "shell.execute_reply": "2024-05-08T12:43:34.994928Z"
    }
   },
   "outputs": [],
   "source": [
    "import motile\n",
    "\n",
    "# create a motile solver\n",
    "solver = motile.Solver(graph)"
   ]
  },
  {
   "cell_type": "code",
   "execution_count": 5,
   "id": "2145886e",
   "metadata": {
    "execution": {
     "iopub.execute_input": "2024-05-08T12:43:34.997223Z",
     "iopub.status.busy": "2024-05-08T12:43:34.997063Z",
     "iopub.status.idle": "2024-05-08T12:43:35.000402Z",
     "shell.execute_reply": "2024-05-08T12:43:34.999911Z"
    }
   },
   "outputs": [],
   "source": [
    "from motile.costs import EdgeDistance\n",
    "\n",
    "solver.add_costs(\n",
    "    EdgeDistance(\n",
    "        weight=1,\n",
    "        position_attribute=\"pos\",\n",
    "        constant=-20))\n"
   ]
  },
  {
   "cell_type": "code",
   "execution_count": 8,
   "id": "74c00aa1",
   "metadata": {
    "execution": {
     "iopub.execute_input": "2024-05-08T12:43:35.045973Z",
     "iopub.status.busy": "2024-05-08T12:43:35.045817Z",
     "iopub.status.idle": "2024-05-08T12:43:35.048673Z",
     "shell.execute_reply": "2024-05-08T12:43:35.048279Z"
    }
   },
   "outputs": [],
   "source": [
    "from motile.constraints import MaxParents, MaxChildren\n",
    "\n",
    "solver.add_constraints(MaxParents(1))\n",
    "solver.add_constraints(MaxChildren(1))"
   ]
  },
  {
   "cell_type": "code",
   "execution_count": 11,
   "id": "65bf9de5",
   "metadata": {
    "execution": {
     "iopub.execute_input": "2024-05-08T12:43:35.091621Z",
     "iopub.status.busy": "2024-05-08T12:43:35.091470Z",
     "iopub.status.idle": "2024-05-08T12:43:35.094696Z",
     "shell.execute_reply": "2024-05-08T12:43:35.094279Z"
    }
   },
   "outputs": [],
   "source": [
    "from motile.costs import Appear\n",
    "\n",
    "solver.add_costs(Appear(constant=1.0))"
   ]
  },
  {
   "cell_type": "code",
   "execution_count": 12,
   "id": "a65bcb62",
   "metadata": {
    "execution": {
     "iopub.execute_input": "2024-05-08T12:43:35.096313Z",
     "iopub.status.busy": "2024-05-08T12:43:35.096163Z",
     "iopub.status.idle": "2024-05-08T12:43:35.115403Z",
     "shell.execute_reply": "2024-05-08T12:43:35.114916Z"
    }
   },
   "outputs": [
    {
     "name": "stdout",
     "output_type": "stream",
     "text": [
      "Could not create Gurobi backend: Gurobi error in ilpy/impl/solvers/GurobiBackend.cpp:22: PIP license can only be used from gurobipy interface\n"
     ]
    }
   ],
   "source": [
    "solution = solver.solve()"
   ]
  },
  {
   "cell_type": "markdown",
   "id": "de0690d6",
   "metadata": {},
   "source": [
    "TODO:\n",
    "add results to napari tracks layer and/or points layer and start viewer\n",
    "Add raw data to image layer"
   ]
  }
 ],
 "metadata": {
  "kernelspec": {
   "display_name": "Python 3 (ipykernel)",
   "language": "python",
   "name": "python3"
  },
  "language_info": {
   "codemirror_mode": {
    "name": "ipython",
    "version": 3
   },
   "file_extension": ".py",
   "mimetype": "text/x-python",
   "name": "python",
   "nbconvert_exporter": "python",
   "pygments_lexer": "ipython3",
   "version": "3.10.14"
  }
 },
 "nbformat": 4,
 "nbformat_minor": 5
}
